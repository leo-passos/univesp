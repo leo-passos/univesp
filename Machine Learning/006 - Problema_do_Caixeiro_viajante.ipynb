{
  "cells": [
    {
      "cell_type": "markdown",
      "metadata": {
        "id": "QPqOCRzFlROV"
      },
      "source": [
        "# Travelling Salesperson Problem solved using genetic algorithms"
      ]
    },
    {
      "cell_type": "code",
      "execution_count": 1,
      "metadata": {
        "id": "EG-Rr7HPlROa"
      },
      "outputs": [],
      "source": [
        "# Bibliotecas e parametros\n",
        "import numpy as np\n",
        "import random\n",
        "from datetime import datetime\n",
        "\n",
        "n_cities = 20\n",
        "n_population = 100\n",
        "mutation_rate = 0.3"
      ]
    },
    {
      "cell_type": "code",
      "execution_count": 4,
      "metadata": {
        "colab": {
          "base_uri": "https://localhost:8080/"
        },
        "id": "crAQGU1ylROc",
        "outputId": "a12de42f-81e1-4510-d3c2-1e42224ea456"
      },
      "outputs": [
        {
          "output_type": "execute_result",
          "data": {
            "text/plain": [
              "{'Berlin': [48, 14],\n",
              " 'London': [91, 0],\n",
              " 'Moscow': [96, 97],\n",
              " 'Barcelona': [80, 32],\n",
              " 'Rome': [57, 50],\n",
              " 'Paris': [79, 50],\n",
              " 'Vienna': [38, 19],\n",
              " 'Munich': [28, 82],\n",
              " 'Istanbul': [36, 1],\n",
              " 'Kyiv': [3, 94],\n",
              " 'Bucharest': [25, 57],\n",
              " 'Minsk': [9, 50],\n",
              " 'Warsaw': [37, 31],\n",
              " 'Budapest': [6, 99],\n",
              " 'Milan': [96, 36],\n",
              " 'Prague': [67, 49],\n",
              " 'Sofia': [52, 58],\n",
              " 'Birmingham': [35, 21],\n",
              " 'Brussels': [40, 0],\n",
              " 'Amsterdam': [91, 73]}"
            ]
          },
          "metadata": {},
          "execution_count": 4
        }
      ],
      "source": [
        "# Gerando uma lista de coordenadas representando cada cidade\n",
        "coordinates_list = [[x,y] for x,y in zip(np.random.randint(0,100,n_cities),np.random.randint(0,100,n_cities))]\n",
        "names_list = np.array(['Berlin', 'London', 'Moscow', 'Barcelona', 'Rome', 'Paris', 'Vienna', 'Munich', 'Istanbul', 'Kyiv', 'Bucharest', 'Minsk', 'Warsaw', 'Budapest', 'Milan', 'Prague', 'Sofia', 'Birmingham', 'Brussels', 'Amsterdam'])\n",
        "cities_dict = { x:y for x,y in zip(names_list,coordinates_list)}\n",
        "\n",
        "# Função para calcular a distância entre dois pontos\n",
        "def compute_city_distance_coordinates(a,b):\n",
        "    return ((a[0]-b[0])**2+(a[1]-b[1])**2)**0.5\n",
        "\n",
        "def compute_city_distance_names(city_a, city_b, cities_dict):\n",
        "    return compute_city_distance_coordinates(cities_dict[city_a], cities_dict[city_b])\n",
        "\n",
        "cities_dict\n"
      ]
    },
    {
      "cell_type": "markdown",
      "metadata": {
        "id": "nlYFTj3WlROe"
      },
      "source": [
        "## 1. Crie o primeiro conjunto populacional\n",
        "Embaralhamos aleatoriamente as cidades N vezes, onde N = tamanho_da_população."
      ]
    },
    {
      "cell_type": "code",
      "execution_count": 5,
      "metadata": {
        "colab": {
          "base_uri": "https://localhost:8080/"
        },
        "id": "eRJcP4rqlROe",
        "outputId": "281daa67-296d-4042-a68e-b240aaf9a82b"
      },
      "outputs": [
        {
          "output_type": "execute_result",
          "data": {
            "text/plain": [
              "array([['London', 'Bucharest', 'Paris', ..., 'Birmingham', 'Warsaw',\n",
              "        'Kyiv'],\n",
              "       ['Munich', 'Vienna', 'Paris', ..., 'Warsaw', 'Istanbul', 'Berlin'],\n",
              "       ['Brussels', 'Kyiv', 'Vienna', ..., 'Paris', 'Munich',\n",
              "        'Bucharest'],\n",
              "       ...,\n",
              "       ['London', 'Kyiv', 'Istanbul', ..., 'Barcelona', 'Milan',\n",
              "        'Munich'],\n",
              "       ['Vienna', 'London', 'Paris', ..., 'Minsk', 'Rome', 'Kyiv'],\n",
              "       ['Istanbul', 'Milan', 'Rome', ..., 'Sofia', 'Paris', 'Vienna']],\n",
              "      dtype='<U10')"
            ]
          },
          "metadata": {},
          "execution_count": 5
        }
      ],
      "source": [
        "# 1º conjunto populacional\n",
        "def genesis(city_list, n_population):\n",
        "    population_set = []\n",
        "    for i in range(n_population):\n",
        "        #Gerando aleatoriamente uma nova solução\n",
        "        sol_i = city_list[np.random.choice(list(range(n_cities)), n_cities, replace=False)]\n",
        "        population_set.append(sol_i)\n",
        "    return np.array(population_set)\n",
        "\n",
        "population_set = genesis(names_list, n_population)\n",
        "population_set"
      ]
    },
    {
      "cell_type": "markdown",
      "metadata": {
        "id": "k1a1s3PLlROe"
      },
      "source": [
        "## 2. Avalie a adequação das soluções\n",
        "As soluções são definidas de forma que o primeiro elemento da lista seja a primeira cidade a visitar, depois a segunda, etc. e a última cidade esteja ligada à primeira.\n",
        "A função de aptidão precisa calcular a distância entre as cidades subsequentes."
      ]
    },
    {
      "cell_type": "code",
      "execution_count": 7,
      "metadata": {
        "colab": {
          "base_uri": "https://localhost:8080/"
        },
        "id": "kkk7iwJIlROf",
        "outputId": "11271709-1ea0-443d-becf-f65d6ffea9d6"
      },
      "outputs": [
        {
          "output_type": "execute_result",
          "data": {
            "text/plain": [
              "array([1098.37503584, 1049.23909243,  992.8812417 , 1149.36981691,\n",
              "       1088.27483119, 1157.52594409,  973.62641731, 1058.40845816,\n",
              "       1058.41612334, 1087.28981973, 1002.2951244 , 1136.28087521,\n",
              "       1125.33351885, 1093.72477048, 1020.88712446, 1123.80870507,\n",
              "        967.69767694, 1113.34056188, 1041.23213468, 1142.75116533,\n",
              "       1141.34100837, 1226.79264372, 1174.214806  , 1041.25164813,\n",
              "       1099.43389587,  968.76280429,  875.57965798, 1260.65472038,\n",
              "       1093.24951322, 1152.27141811, 1144.87482877,  969.990546  ,\n",
              "       1107.81692601, 1108.7191536 ,  833.7183617 , 1242.17952288,\n",
              "       1055.94193477, 1039.61526371, 1117.22370693, 1015.92263347,\n",
              "       1183.61817927, 1087.95575001,  914.46433492, 1095.5624872 ,\n",
              "        844.82737864, 1216.90327418,  962.54027507, 1078.45892669,\n",
              "       1048.51302628, 1199.78990112, 1126.36098257, 1025.05747055,\n",
              "       1142.53999879, 1139.14186367, 1060.47614607,  925.4014766 ,\n",
              "       1071.3119041 , 1144.94634573, 1152.30474267, 1062.47880902,\n",
              "       1080.76156548, 1123.11818305, 1055.91543338, 1042.01091402,\n",
              "       1089.74722273, 1109.75464833, 1185.76794288, 1039.73217334,\n",
              "        950.10752592, 1125.48207714, 1050.71706635, 1103.02415895,\n",
              "       1183.24912164, 1216.38301104,  977.51847947, 1039.82566402,\n",
              "       1197.60223638, 1060.50032866, 1166.46813607,  984.54912735,\n",
              "       1008.74004984, 1117.32209128, 1016.62218993,  983.36110368,\n",
              "       1137.73081603, 1137.70829767,  960.37824174, 1042.8754271 ,\n",
              "        892.63236482, 1052.14337268, 1117.11481827, 1171.02369576,\n",
              "       1007.57690433, 1089.71414543, 1037.50532765, 1183.46197698,\n",
              "       1146.16374864, 1055.08325225, 1027.5526764 , 1062.76837927])"
            ]
          },
          "metadata": {},
          "execution_count": 7
        }
      ],
      "source": [
        "def fitness_eval(city_list, cities_dict):\n",
        "    total = 0\n",
        "    for i in range(n_cities-1):\n",
        "        a = city_list[i]\n",
        "        b = city_list[i+1]\n",
        "        total += compute_city_distance_names(a,b, cities_dict)\n",
        "    return total\n",
        "\n",
        "def get_all_fitnes(population_set, cities_dict):\n",
        "    fitnes_list = np.zeros(n_population)\n",
        "\n",
        "    #Looping over all solutions computing the fitness for each solution\n",
        "    for i in  range(n_population):\n",
        "        fitnes_list[i] = fitness_eval(population_set[i], cities_dict)\n",
        "\n",
        "    return fitnes_list\n",
        "\n",
        "fitnes_list = get_all_fitnes(population_set,cities_dict)\n",
        "fitnes_list"
      ]
    },
    {
      "cell_type": "markdown",
      "metadata": {
        "id": "KK3ytXRblROg"
      },
      "source": [
        "# 3. Seleção de progenitores\n",
        "Selecionarei um novo conjunto de progenitores usando a Seleção da Roleta. Gera uma lista de pares de progenitores onde N= len(population_set) mas em cada posição existem duas soluções para mesclar"
      ]
    },
    {
      "cell_type": "code",
      "execution_count": 8,
      "metadata": {
        "colab": {
          "base_uri": "https://localhost:8080/"
        },
        "id": "AWKe3HNGlROg",
        "outputId": "56f1db2a-6c1c-42c7-aa35-6d5706980931"
      },
      "outputs": [
        {
          "output_type": "execute_result",
          "data": {
            "text/plain": [
              "array(['Warsaw', 'Paris', 'Vienna', 'Berlin', 'Barcelona', 'Munich',\n",
              "       'Sofia', 'Moscow', 'Bucharest', 'Minsk', 'Milan', 'Kyiv', 'Rome',\n",
              "       'Budapest', 'Istanbul', 'Amsterdam', 'Brussels', 'Prague',\n",
              "       'London', 'Birmingham'], dtype='<U10')"
            ]
          },
          "metadata": {},
          "execution_count": 8
        }
      ],
      "source": [
        "def progenitor_selection(population_set,fitnes_list):\n",
        "    total_fit = fitnes_list.sum()\n",
        "    prob_list = fitnes_list/total_fit\n",
        "\n",
        "    #Notice there is the chance that a progenitor. mates with oneself\n",
        "    progenitor_list_a = np.random.choice(list(range(len(population_set))), len(population_set),p=prob_list, replace=True)\n",
        "    progenitor_list_b = np.random.choice(list(range(len(population_set))), len(population_set),p=prob_list, replace=True)\n",
        "\n",
        "    progenitor_list_a = population_set[progenitor_list_a]\n",
        "    progenitor_list_b = population_set[progenitor_list_b]\n",
        "\n",
        "\n",
        "    return np.array([progenitor_list_a,progenitor_list_b])\n",
        "\n",
        "\n",
        "progenitor_list = progenitor_selection(population_set,fitnes_list)\n",
        "progenitor_list[0][2]"
      ]
    },
    {
      "cell_type": "markdown",
      "metadata": {
        "id": "kNnZOM8MlROg"
      },
      "source": [
        "# 4. Crissamento\n",
        "Para cada par de pais geraremos um par descendente. Como não podemos repetir cidades, o que faremos é copiar um pedaço aleatório de um progenitor e preencher os espaços em branco com o outro progenitor."
      ]
    },
    {
      "cell_type": "code",
      "execution_count": 9,
      "metadata": {
        "colab": {
          "base_uri": "https://localhost:8080/"
        },
        "id": "5r4RKwW6lROh",
        "outputId": "916271b7-3aa7-4db0-a784-416a97698d33"
      },
      "outputs": [
        {
          "output_type": "execute_result",
          "data": {
            "text/plain": [
              "array(['Warsaw', 'Rome', 'Minsk', 'Sofia', 'Milan', 'Brussels', 'Berlin',\n",
              "       'Munich', 'Prague', 'London', 'Budapest', 'Vienna', 'Bucharest',\n",
              "       'Moscow', 'Kyiv', 'Istanbul', 'Paris', 'Amsterdam', 'Barcelona',\n",
              "       'Birmingham'], dtype='<U10')"
            ]
          },
          "metadata": {},
          "execution_count": 9
        }
      ],
      "source": [
        "def mate_progenitors(prog_a, prog_b):\n",
        "    offspring = prog_a[0:5]\n",
        "\n",
        "    for city in prog_b:\n",
        "\n",
        "        if not city in offspring:\n",
        "            offspring = np.concatenate((offspring,[city]))\n",
        "\n",
        "    return offspring\n",
        "\n",
        "\n",
        "\n",
        "def mate_population(progenitor_list):\n",
        "    new_population_set = []\n",
        "    for i in range(progenitor_list.shape[1]):\n",
        "        prog_a, prog_b = progenitor_list[0][i], progenitor_list[1][i]\n",
        "        offspring = mate_progenitors(prog_a, prog_b)\n",
        "        new_population_set.append(offspring)\n",
        "\n",
        "    return new_population_set\n",
        "\n",
        "new_population_set = mate_population(progenitor_list)\n",
        "new_population_set[0]"
      ]
    },
    {
      "cell_type": "markdown",
      "metadata": {
        "id": "0_CJHoE_lROh"
      },
      "source": [
        "# 5. Mutação\n",
        "Agora, para cada elemento da nova população, adicionamos uma chance aleatória de troca"
      ]
    },
    {
      "cell_type": "code",
      "execution_count": 10,
      "metadata": {
        "colab": {
          "base_uri": "https://localhost:8080/"
        },
        "id": "fa3Vh6HklROh",
        "outputId": "eacdcb5b-d0ad-4180-8380-3393f6be9e32"
      },
      "outputs": [
        {
          "output_type": "execute_result",
          "data": {
            "text/plain": [
              "array(['Paris', 'Rome', 'Minsk', 'Moscow', 'Milan', 'Warsaw', 'Sofia',\n",
              "       'Munich', 'Prague', 'London', 'Budapest', 'Vienna', 'Amsterdam',\n",
              "       'Birmingham', 'Kyiv', 'Istanbul', 'Brussels', 'Bucharest',\n",
              "       'Barcelona', 'Berlin'], dtype='<U10')"
            ]
          },
          "metadata": {},
          "execution_count": 10
        }
      ],
      "source": [
        "def mutate_offspring(offspring):\n",
        "    for q in range(int(n_cities*mutation_rate)):\n",
        "        a = np.random.randint(0,n_cities)\n",
        "        b = np.random.randint(0,n_cities)\n",
        "\n",
        "        offspring[a], offspring[b] = offspring[b], offspring[a]\n",
        "\n",
        "    return offspring\n",
        "\n",
        "\n",
        "def mutate_population(new_population_set):\n",
        "    mutated_pop = []\n",
        "    for offspring in new_population_set:\n",
        "        mutated_pop.append(mutate_offspring(offspring))\n",
        "    return mutated_pop\n",
        "\n",
        "mutated_pop = mutate_population(new_population_set)\n",
        "mutated_pop[0]"
      ]
    },
    {
      "cell_type": "markdown",
      "metadata": {
        "id": "7pf8zJbalROh"
      },
      "source": [
        "# 6. SParando\n",
        "Para selecionar os critérios de parada, precisaremos criar um loop para parar primeiro. Então vou configurá-lo para fazer um loop em 1000 iterações."
      ]
    },
    {
      "cell_type": "code",
      "execution_count": 11,
      "metadata": {
        "colab": {
          "base_uri": "https://localhost:8080/"
        },
        "id": "EpOtWJZ_lROi",
        "outputId": "c9c85ea8-f6a6-4ecc-f8eb-398762aa3e52"
      },
      "outputs": [
        {
          "output_type": "stream",
          "name": "stdout",
          "text": [
            "0 833.7183616991465 1076.6268060103646 06/05/24 20:31\n",
            "100 795.7962266458421 1055.9789519611975 06/05/24 20:31\n",
            "200 803.8137897708594 1066.4480481032815 06/05/24 20:31\n",
            "300 861.9886729964207 1069.12850177717 06/05/24 20:31\n",
            "400 855.5450649687737 1081.4305508203279 06/05/24 20:31\n",
            "500 843.4783353725618 1044.4441562725647 06/05/24 20:31\n",
            "600 841.0283891124741 1064.2333293166798 06/05/24 20:31\n",
            "700 868.6940577349764 1077.4195816409667 06/05/24 20:31\n",
            "800 860.7677811383339 1070.6768765812524 06/05/24 20:31\n",
            "900 846.1874359398313 1074.1087137512384 06/05/24 20:32\n",
            "1000 766.718465618718 1074.1430698084055 06/05/24 20:32\n",
            "1100 825.0884276875576 1066.9122811201514 06/05/24 20:32\n",
            "1200 898.4712522639837 1064.4239856426852 06/05/24 20:32\n",
            "1300 746.1252999488288 1054.9003375471627 06/05/24 20:32\n",
            "1400 811.2027269453176 1082.7118956124214 06/05/24 20:32\n",
            "1500 806.9476321821105 1051.3917560504988 06/05/24 20:32\n",
            "1600 866.7261233153187 1071.9054047819743 06/05/24 20:32\n",
            "1700 817.5331757095483 1052.2898267820954 06/05/24 20:32\n",
            "1800 776.3899190112614 1074.2923924097026 06/05/24 20:32\n",
            "1900 881.7595462969574 1082.146178234889 06/05/24 20:32\n",
            "2000 870.8704627686265 1066.6066628635265 06/05/24 20:32\n",
            "2100 790.8742577357656 1063.1958939758051 06/05/24 20:32\n",
            "2200 778.116927523904 1072.4601468290505 06/05/24 20:32\n",
            "2300 792.512614967249 1064.3466283279076 06/05/24 20:32\n",
            "2400 780.7141299145771 1050.9515179125253 06/05/24 20:32\n",
            "2500 863.485665519362 1059.925912029355 06/05/24 20:32\n",
            "2600 834.9548661516573 1068.0639854290735 06/05/24 20:32\n",
            "2700 868.5070265544092 1069.117176370769 06/05/24 20:32\n",
            "2800 834.559180019217 1074.6475331816246 06/05/24 20:32\n",
            "2900 867.9495034087166 1070.6060445116232 06/05/24 20:32\n",
            "3000 793.0774600339556 1059.3964853043674 06/05/24 20:33\n",
            "3100 822.9204247414522 1058.0114492049038 06/05/24 20:33\n",
            "3200 799.0595187606013 1067.2554291052259 06/05/24 20:33\n",
            "3300 784.825436925975 1075.481279835158 06/05/24 20:33\n",
            "3400 784.5898575450998 1059.301654270528 06/05/24 20:33\n",
            "3500 793.4037044802722 1061.0712463604507 06/05/24 20:33\n",
            "3600 798.0000365522109 1058.895368177971 06/05/24 20:33\n",
            "3700 910.7290231681305 1086.3881882565515 06/05/24 20:33\n",
            "3800 794.2023072088928 1056.7321452014014 06/05/24 20:33\n",
            "3900 819.7524343496523 1065.898194571724 06/05/24 20:33\n",
            "4000 772.1970899275261 1052.0900528485365 06/05/24 20:33\n",
            "4100 895.8787175120591 1080.4055173728784 06/05/24 20:33\n",
            "4200 895.1346004229947 1077.928051255061 06/05/24 20:33\n",
            "4300 787.2348158014953 1067.249451215405 06/05/24 20:33\n",
            "4400 898.0179265346942 1079.36215390955 06/05/24 20:33\n",
            "4500 761.2617800945441 1072.4471031298456 06/05/24 20:33\n",
            "4600 846.7443759330347 1063.7195116320577 06/05/24 20:33\n",
            "4700 820.7213465414427 1056.7064309471705 06/05/24 20:33\n",
            "4800 890.8962513118965 1072.224966440629 06/05/24 20:33\n",
            "4900 867.6835766590353 1072.7500452422944 06/05/24 20:33\n",
            "5000 894.3669592477604 1062.6145493485124 06/05/24 20:33\n",
            "5100 802.0853449748141 1048.3727547257208 06/05/24 20:33\n",
            "5200 855.7081887477581 1062.9415986364588 06/05/24 20:34\n",
            "5300 759.7400646941805 1065.2100792725425 06/05/24 20:34\n",
            "5400 766.1102873582363 1060.303632282384 06/05/24 20:34\n",
            "5500 854.4353644148409 1059.7984883075274 06/05/24 20:34\n",
            "5600 879.4727027317704 1080.5743065663291 06/05/24 20:34\n",
            "5700 799.4482093965031 1061.5365141841003 06/05/24 20:34\n",
            "5800 852.7816979315992 1074.557624541493 06/05/24 20:34\n",
            "5900 875.6646980191656 1075.0454337768601 06/05/24 20:34\n",
            "6000 827.2324273539804 1055.7216366187924 06/05/24 20:34\n",
            "6100 777.9024936017746 1059.8858769439767 06/05/24 20:34\n",
            "6200 800.9430164967123 1069.8629432781997 06/05/24 20:34\n",
            "6300 799.1242769673925 1082.9408688551714 06/05/24 20:34\n",
            "6400 833.0710335502839 1060.128558859854 06/05/24 20:34\n",
            "6500 826.2746101714357 1073.481729005019 06/05/24 20:34\n",
            "6600 790.3984906608939 1067.121612801996 06/05/24 20:34\n",
            "6700 834.1707473845005 1067.6026939560231 06/05/24 20:34\n",
            "6800 861.4196838573937 1078.3218897745942 06/05/24 20:34\n",
            "6900 777.5979782026352 1061.773316782844 06/05/24 20:34\n",
            "7000 875.4789420375505 1069.0570815247029 06/05/24 20:34\n",
            "7100 690.6590169554128 1049.8086357999618 06/05/24 20:34\n",
            "7200 822.2533211865493 1081.9088790873614 06/05/24 20:34\n",
            "7300 826.7870936100494 1062.2476508387526 06/05/24 20:35\n",
            "7400 871.2261115509039 1076.2306801099726 06/05/24 20:35\n",
            "7500 864.2836791087141 1071.8782818254783 06/05/24 20:35\n",
            "7600 861.9418702055839 1069.6488414207356 06/05/24 20:35\n",
            "7700 846.4416749046075 1063.9176084813582 06/05/24 20:35\n",
            "7800 707.3564705080721 1058.1895091922713 06/05/24 20:35\n",
            "7900 742.4241056781987 1077.2982290033779 06/05/24 20:35\n",
            "8000 860.7668576697143 1068.699018671231 06/05/24 20:35\n",
            "8100 860.9590198044667 1053.8645263270002 06/05/24 20:35\n",
            "8200 870.2367895893348 1075.3065448026457 06/05/24 20:35\n",
            "8300 818.5837300637284 1073.5685517889979 06/05/24 20:35\n",
            "8400 787.6269136426793 1067.6793259517829 06/05/24 20:35\n",
            "8500 817.0981006317206 1064.170691811216 06/05/24 20:35\n",
            "8600 830.8938386341683 1043.997946723742 06/05/24 20:35\n",
            "8700 827.620092753133 1068.590730884688 06/05/24 20:35\n",
            "8800 804.499448266552 1078.1352452169476 06/05/24 20:35\n",
            "8900 838.1758010945503 1069.4303601065992 06/05/24 20:35\n",
            "9000 783.5156320792879 1074.9366489453287 06/05/24 20:35\n",
            "9100 767.2074052140086 1070.0057768641057 06/05/24 20:35\n",
            "9200 826.41184723438 1063.749062405124 06/05/24 20:35\n",
            "9300 881.2240433664169 1076.5197996783788 06/05/24 20:35\n",
            "9400 789.1113892289884 1065.0469198909457 06/05/24 20:36\n",
            "9500 859.672359185029 1068.651986964147 06/05/24 20:36\n",
            "9600 742.9975014455583 1069.3178623644103 06/05/24 20:36\n",
            "9700 831.1805551563629 1068.0597217431382 06/05/24 20:36\n",
            "9800 799.6275714201836 1058.2762740567105 06/05/24 20:36\n",
            "9900 859.6522718185013 1082.8981364573679 06/05/24 20:36\n"
          ]
        }
      ],
      "source": [
        "best_solution = [-1,np.inf,np.array([])]\n",
        "for i in range(10000):\n",
        "    if i%100==0: print(i, fitnes_list.min(), fitnes_list.mean(), datetime.now().strftime(\"%d/%m/%y %H:%M\"))\n",
        "    fitnes_list = get_all_fitnes(mutated_pop,cities_dict)\n",
        "\n",
        "    #Saving the best solution\n",
        "    if fitnes_list.min() < best_solution[1]:\n",
        "        best_solution[0] = i\n",
        "        best_solution[1] = fitnes_list.min()\n",
        "        best_solution[2] = np.array(mutated_pop)[fitnes_list.min() == fitnes_list]\n",
        "\n",
        "    progenitor_list = progenitor_selection(population_set,fitnes_list)\n",
        "    new_population_set = mate_population(progenitor_list)\n",
        "\n",
        "    mutated_pop = mutate_population(new_population_set)"
      ]
    },
    {
      "cell_type": "code",
      "execution_count": 12,
      "metadata": {
        "colab": {
          "base_uri": "https://localhost:8080/"
        },
        "id": "as5pyGUNlROi",
        "outputId": "6166076b-e0e3-4669-9a07-d3617d9a81be"
      },
      "outputs": [
        {
          "output_type": "execute_result",
          "data": {
            "text/plain": [
              "[4245,\n",
              " 606.8809197956663,\n",
              " array([['Moscow', 'Amsterdam', 'Vienna', 'Sofia', 'Munich', 'Kyiv',\n",
              "         'Budapest', 'Prague', 'Warsaw', 'Minsk', 'Birmingham',\n",
              "         'Istanbul', 'Brussels', 'Berlin', 'London', 'Milan', 'Barcelona',\n",
              "         'Paris', 'Rome', 'Bucharest']], dtype='<U10')]"
            ]
          },
          "metadata": {},
          "execution_count": 12
        }
      ],
      "source": [
        "best_solution"
      ]
    }
  ],
  "metadata": {
    "kernelspec": {
      "display_name": "Python 3",
      "language": "python",
      "name": "python3"
    },
    "language_info": {
      "codemirror_mode": {
        "name": "ipython",
        "version": 3
      },
      "file_extension": ".py",
      "mimetype": "text/x-python",
      "name": "python",
      "nbconvert_exporter": "python",
      "pygments_lexer": "ipython3",
      "version": "3.8.5"
    },
    "colab": {
      "provenance": []
    }
  },
  "nbformat": 4,
  "nbformat_minor": 0
}