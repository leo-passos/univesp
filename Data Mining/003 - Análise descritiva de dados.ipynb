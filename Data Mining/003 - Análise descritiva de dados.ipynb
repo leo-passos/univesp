{
  "nbformat": 4,
  "nbformat_minor": 0,
  "metadata": {
    "colab": {
      "name": "semana-3-exercicio-apoio.ipynb",
      "provenance": []
    },
    "kernelspec": {
      "name": "python3",
      "display_name": "Python 3"
    },
    "language_info": {
      "name": "python"
    }
  },
  "cells": [
    {
      "cell_type": "markdown",
      "source": [
        "## Semana 3: Exercício de apoio\n",
        "\n",
        "O conjunto de dados a seguir contém informações sobre bebês nascidos e seus pais. Faça as seguintes análises descritiva dos dados:\n",
        "\n",
        "1. Faça um histograma dos atributos peso do bebê e altura do bebê.\n",
        "2. Gere um gráfico de setores das mães fumantes.\n",
        "3. Obtenha a média e o desvio padrão da altura dos bebês.\n",
        "4. Gere um diagrama de caixa da idade da mãe.\n",
        "5. Gere um gráfico de dispersão do peso do bebê e do tempo de gestação.\n",
        "6. Acrescente a informação de mães fumantes e não fumantes. Para isso, inclua o parâmetro **hue** na função **scatterplot** passando o atributo **smoker** como referência.\n",
        "\n",
        "Fique à vontade para explorar outros atributos e análises!\n",
        "\n",
        "### URL do conjunto de dados\n",
        "https://www.sheffield.ac.uk/polopoly_fs/1.937185!/file/Birthweight_reduced_kg_R.csv\n",
        "\n",
        "Fonte: Mathematics and Statistics Help (MASH), Universidade de Sheffield, Reino Unido.\n",
        "\n",
        "### Descrição dos atributos:\n",
        "\n",
        "**ID**: número do bebê\n",
        "\n",
        "**Length**: comprimento do bebê (cm)\n",
        "\n",
        "**Birthweight**: peso do bebê (kg)\n",
        "\n",
        "**Headcirc**: circunferência da cabeça\n",
        "\n",
        "**Gestation**: gestação (semanas)\n",
        "\n",
        "**smoker**: mãe fumante (1 = sim, 0 = não)\n",
        "\n",
        "**mage**: idade da mãe\n",
        "\n",
        "**mnocig**: número de cigarros por dia da mãe\n",
        "\n",
        "**mheight**: altura da mãe (cm)\n",
        "\n",
        "**mppwt**: peso pré-gravidez da mãe (kg)\n",
        "\n",
        "**fage**: idade do pai\n",
        "\n",
        "**fedyrs**: anos de escolaridade do pai\n",
        "\n",
        "**fnocig**: número de cigarros por dia do pai\n",
        "\n",
        "**fheight**: altura do pai (cm)\n",
        "\n",
        "**lowbwt**: baixo peso do bebê (0 = não, 1 = sim)\n",
        "\n",
        "**mage35**: mãe acima dos 35 anos (0 = não, 1 = sim)\n"
      ],
      "metadata": {
        "id": "5eGugI9suDZM"
      }
    },
    {
      "cell_type": "code",
      "source": [
        ""
      ],
      "metadata": {
        "id": "p4nu2DasZpRu"
      },
      "execution_count": null,
      "outputs": []
    },
    {
      "cell_type": "code",
      "source": [
        "import pandas as pd\n",
        "import seaborn as sb\n",
        "import matplotlib.pyplot as plt\n",
        "sb.set(rc={'figure.figsize':(15,8)})"
      ],
      "metadata": {
        "id": "oJB0IXKUwNCu"
      },
      "execution_count": null,
      "outputs": []
    },
    {
      "cell_type": "code",
      "execution_count": null,
      "metadata": {
        "colab": {
          "base_uri": "https://localhost:8080/",
          "height": 206
        },
        "id": "RIjEZ_YKt6Ub",
        "outputId": "fcec9ba1-6839-4027-a93a-aeed900976a2"
      },
      "outputs": [
        {
          "output_type": "execute_result",
          "data": {
            "text/html": [
              "\n",
              "  <div id=\"df-13af2bbd-705a-4d15-a048-387f3df01684\">\n",
              "    <div class=\"colab-df-container\">\n",
              "      <div>\n",
              "<style scoped>\n",
              "    .dataframe tbody tr th:only-of-type {\n",
              "        vertical-align: middle;\n",
              "    }\n",
              "\n",
              "    .dataframe tbody tr th {\n",
              "        vertical-align: top;\n",
              "    }\n",
              "\n",
              "    .dataframe thead th {\n",
              "        text-align: right;\n",
              "    }\n",
              "</style>\n",
              "<table border=\"1\" class=\"dataframe\">\n",
              "  <thead>\n",
              "    <tr style=\"text-align: right;\">\n",
              "      <th></th>\n",
              "      <th>ID</th>\n",
              "      <th>Length</th>\n",
              "      <th>Birthweight</th>\n",
              "      <th>Headcirc</th>\n",
              "      <th>Gestation</th>\n",
              "      <th>smoker</th>\n",
              "      <th>mage</th>\n",
              "      <th>mnocig</th>\n",
              "      <th>mheight</th>\n",
              "      <th>mppwt</th>\n",
              "      <th>fage</th>\n",
              "      <th>fedyrs</th>\n",
              "      <th>fnocig</th>\n",
              "      <th>fheight</th>\n",
              "      <th>lowbwt</th>\n",
              "      <th>mage35</th>\n",
              "    </tr>\n",
              "  </thead>\n",
              "  <tbody>\n",
              "    <tr>\n",
              "      <th>0</th>\n",
              "      <td>1360</td>\n",
              "      <td>56</td>\n",
              "      <td>4.55</td>\n",
              "      <td>34</td>\n",
              "      <td>44</td>\n",
              "      <td>0</td>\n",
              "      <td>20</td>\n",
              "      <td>0</td>\n",
              "      <td>162</td>\n",
              "      <td>57</td>\n",
              "      <td>23</td>\n",
              "      <td>10</td>\n",
              "      <td>35</td>\n",
              "      <td>179</td>\n",
              "      <td>0</td>\n",
              "      <td>0</td>\n",
              "    </tr>\n",
              "    <tr>\n",
              "      <th>1</th>\n",
              "      <td>1016</td>\n",
              "      <td>53</td>\n",
              "      <td>4.32</td>\n",
              "      <td>36</td>\n",
              "      <td>40</td>\n",
              "      <td>0</td>\n",
              "      <td>19</td>\n",
              "      <td>0</td>\n",
              "      <td>171</td>\n",
              "      <td>62</td>\n",
              "      <td>19</td>\n",
              "      <td>12</td>\n",
              "      <td>0</td>\n",
              "      <td>183</td>\n",
              "      <td>0</td>\n",
              "      <td>0</td>\n",
              "    </tr>\n",
              "    <tr>\n",
              "      <th>2</th>\n",
              "      <td>462</td>\n",
              "      <td>58</td>\n",
              "      <td>4.10</td>\n",
              "      <td>39</td>\n",
              "      <td>41</td>\n",
              "      <td>0</td>\n",
              "      <td>35</td>\n",
              "      <td>0</td>\n",
              "      <td>172</td>\n",
              "      <td>58</td>\n",
              "      <td>31</td>\n",
              "      <td>16</td>\n",
              "      <td>25</td>\n",
              "      <td>185</td>\n",
              "      <td>0</td>\n",
              "      <td>1</td>\n",
              "    </tr>\n",
              "    <tr>\n",
              "      <th>3</th>\n",
              "      <td>1187</td>\n",
              "      <td>53</td>\n",
              "      <td>4.07</td>\n",
              "      <td>38</td>\n",
              "      <td>44</td>\n",
              "      <td>0</td>\n",
              "      <td>20</td>\n",
              "      <td>0</td>\n",
              "      <td>174</td>\n",
              "      <td>68</td>\n",
              "      <td>26</td>\n",
              "      <td>14</td>\n",
              "      <td>25</td>\n",
              "      <td>189</td>\n",
              "      <td>0</td>\n",
              "      <td>0</td>\n",
              "    </tr>\n",
              "    <tr>\n",
              "      <th>4</th>\n",
              "      <td>553</td>\n",
              "      <td>54</td>\n",
              "      <td>3.94</td>\n",
              "      <td>37</td>\n",
              "      <td>42</td>\n",
              "      <td>0</td>\n",
              "      <td>24</td>\n",
              "      <td>0</td>\n",
              "      <td>175</td>\n",
              "      <td>66</td>\n",
              "      <td>30</td>\n",
              "      <td>12</td>\n",
              "      <td>0</td>\n",
              "      <td>184</td>\n",
              "      <td>0</td>\n",
              "      <td>0</td>\n",
              "    </tr>\n",
              "  </tbody>\n",
              "</table>\n",
              "</div>\n",
              "      <button class=\"colab-df-convert\" onclick=\"convertToInteractive('df-13af2bbd-705a-4d15-a048-387f3df01684')\"\n",
              "              title=\"Convert this dataframe to an interactive table.\"\n",
              "              style=\"display:none;\">\n",
              "        \n",
              "  <svg xmlns=\"http://www.w3.org/2000/svg\" height=\"24px\"viewBox=\"0 0 24 24\"\n",
              "       width=\"24px\">\n",
              "    <path d=\"M0 0h24v24H0V0z\" fill=\"none\"/>\n",
              "    <path d=\"M18.56 5.44l.94 2.06.94-2.06 2.06-.94-2.06-.94-.94-2.06-.94 2.06-2.06.94zm-11 1L8.5 8.5l.94-2.06 2.06-.94-2.06-.94L8.5 2.5l-.94 2.06-2.06.94zm10 10l.94 2.06.94-2.06 2.06-.94-2.06-.94-.94-2.06-.94 2.06-2.06.94z\"/><path d=\"M17.41 7.96l-1.37-1.37c-.4-.4-.92-.59-1.43-.59-.52 0-1.04.2-1.43.59L10.3 9.45l-7.72 7.72c-.78.78-.78 2.05 0 2.83L4 21.41c.39.39.9.59 1.41.59.51 0 1.02-.2 1.41-.59l7.78-7.78 2.81-2.81c.8-.78.8-2.07 0-2.86zM5.41 20L4 18.59l7.72-7.72 1.47 1.35L5.41 20z\"/>\n",
              "  </svg>\n",
              "      </button>\n",
              "      \n",
              "  <style>\n",
              "    .colab-df-container {\n",
              "      display:flex;\n",
              "      flex-wrap:wrap;\n",
              "      gap: 12px;\n",
              "    }\n",
              "\n",
              "    .colab-df-convert {\n",
              "      background-color: #E8F0FE;\n",
              "      border: none;\n",
              "      border-radius: 50%;\n",
              "      cursor: pointer;\n",
              "      display: none;\n",
              "      fill: #1967D2;\n",
              "      height: 32px;\n",
              "      padding: 0 0 0 0;\n",
              "      width: 32px;\n",
              "    }\n",
              "\n",
              "    .colab-df-convert:hover {\n",
              "      background-color: #E2EBFA;\n",
              "      box-shadow: 0px 1px 2px rgba(60, 64, 67, 0.3), 0px 1px 3px 1px rgba(60, 64, 67, 0.15);\n",
              "      fill: #174EA6;\n",
              "    }\n",
              "\n",
              "    [theme=dark] .colab-df-convert {\n",
              "      background-color: #3B4455;\n",
              "      fill: #D2E3FC;\n",
              "    }\n",
              "\n",
              "    [theme=dark] .colab-df-convert:hover {\n",
              "      background-color: #434B5C;\n",
              "      box-shadow: 0px 1px 3px 1px rgba(0, 0, 0, 0.15);\n",
              "      filter: drop-shadow(0px 1px 2px rgba(0, 0, 0, 0.3));\n",
              "      fill: #FFFFFF;\n",
              "    }\n",
              "  </style>\n",
              "\n",
              "      <script>\n",
              "        const buttonEl =\n",
              "          document.querySelector('#df-13af2bbd-705a-4d15-a048-387f3df01684 button.colab-df-convert');\n",
              "        buttonEl.style.display =\n",
              "          google.colab.kernel.accessAllowed ? 'block' : 'none';\n",
              "\n",
              "        async function convertToInteractive(key) {\n",
              "          const element = document.querySelector('#df-13af2bbd-705a-4d15-a048-387f3df01684');\n",
              "          const dataTable =\n",
              "            await google.colab.kernel.invokeFunction('convertToInteractive',\n",
              "                                                     [key], {});\n",
              "          if (!dataTable) return;\n",
              "\n",
              "          const docLinkHtml = 'Like what you see? Visit the ' +\n",
              "            '<a target=\"_blank\" href=https://colab.research.google.com/notebooks/data_table.ipynb>data table notebook</a>'\n",
              "            + ' to learn more about interactive tables.';\n",
              "          element.innerHTML = '';\n",
              "          dataTable['output_type'] = 'display_data';\n",
              "          await google.colab.output.renderOutput(dataTable, element);\n",
              "          const docLink = document.createElement('div');\n",
              "          docLink.innerHTML = docLinkHtml;\n",
              "          element.appendChild(docLink);\n",
              "        }\n",
              "      </script>\n",
              "    </div>\n",
              "  </div>\n",
              "  "
            ],
            "text/plain": [
              "     ID  Length  Birthweight  Headcirc  ...  fnocig  fheight  lowbwt  mage35\n",
              "0  1360      56         4.55        34  ...      35      179       0       0\n",
              "1  1016      53         4.32        36  ...       0      183       0       0\n",
              "2   462      58         4.10        39  ...      25      185       0       1\n",
              "3  1187      53         4.07        38  ...      25      189       0       0\n",
              "4   553      54         3.94        37  ...       0      184       0       0\n",
              "\n",
              "[5 rows x 16 columns]"
            ]
          },
          "metadata": {},
          "execution_count": 4
        }
      ],
      "source": [
        "url = 'https://www.sheffield.ac.uk/polopoly_fs/1.937185!/file/Birthweight_reduced_kg_R.csv'\n",
        "bebes = pd.read_csv(url)\n",
        "bebes.head()"
      ]
    },
    {
      "cell_type": "markdown",
      "source": [
        "### 1. Histogramas"
      ],
      "metadata": {
        "id": "j3o4kEjY2VtE"
      }
    },
    {
      "cell_type": "code",
      "source": [
        "sb.displot(bebes['Birthweight'])\n",
        "plt.show()"
      ],
      "metadata": {
        "colab": {
          "base_uri": "https://localhost:8080/",
          "height": 369
        },
        "id": "hCK5bK_2wE3X",
        "outputId": "777c475e-ea05-4d67-d564-f83fe36a1d4a"
      },
      "execution_count": null,
      "outputs": [
        {
          "output_type": "display_data",
          "data": {
            "image/png": "[encoded data removed]",
            "text/plain": [
              "<Figure size 360x360 with 1 Axes>"
            ]
          },
          "metadata": {
            "needs_background": "light"
          }
        }
      ]
    },
    {
      "cell_type": "code",
      "source": [
        "sb.displot(bebes['Length'])\n",
        "plt.show()"
      ],
      "metadata": {
        "colab": {
          "base_uri": "https://localhost:8080/",
          "height": 369
        },
        "id": "46cL3hXm2t03",
        "outputId": "d1290b69-5e63-4019-d48d-656adf85124c"
      },
      "execution_count": null,
      "outputs": [
        {
          "output_type": "display_data",
          "data": {
            "image/png": "[encoded data removed]",
            "text/plain": [
              "<Figure size 360x360 with 1 Axes>"
            ]
          },
          "metadata": {
            "needs_background": "light"
          }
        }
      ]
    },
    {
      "cell_type": "markdown",
      "source": [
        "### 2. Gráfico de setores das mães fumantes"
      ],
      "metadata": {
        "id": "e_UnL1Vk3TUJ"
      }
    },
    {
      "cell_type": "code",
      "source": [
        "fumantes = len(bebes[bebes['smoker']==1])\n",
        "naofumantes = len(bebes[bebes['smoker']==0])\n",
        "\n",
        "plt.pie([fumantes,naofumantes],labels=['fumantes','não fumantes'],autopct = '%0.0f%%')\n",
        "plt.show()"
      ],
      "metadata": {
        "colab": {
          "base_uri": "https://localhost:8080/",
          "height": 466
        },
        "id": "JoDw2_M03ObU",
        "outputId": "098df797-788c-4820-d31e-b37f188301da"
      },
      "execution_count": null,
      "outputs": [
        {
          "output_type": "display_data",
          "data": {
            "image/png": "[encoded data removed]",
            "text/plain": [
              "<Figure size 1080x576 with 1 Axes>"
            ]
          },
          "metadata": {}
        }
      ]
    },
    {
      "cell_type": "markdown",
      "source": [
        "### 3. Média e o desvio padrão da altura dos bebês"
      ],
      "metadata": {
        "id": "E531kW7B8h5L"
      }
    },
    {
      "cell_type": "code",
      "source": [
        "bebes['Length'].describe()"
      ],
      "metadata": {
        "colab": {
          "base_uri": "https://localhost:8080/"
        },
        "id": "0Kao41bq7SJ8",
        "outputId": "af1d5e59-a4d8-44a2-af82-dbd793ca4d00"
      },
      "execution_count": null,
      "outputs": [
        {
          "output_type": "execute_result",
          "data": {
            "text/plain": [
              "count    42.000000\n",
              "mean     51.333333\n",
              "std       2.935624\n",
              "min      43.000000\n",
              "25%      50.000000\n",
              "50%      52.000000\n",
              "75%      53.000000\n",
              "max      58.000000\n",
              "Name: Length, dtype: float64"
            ]
          },
          "metadata": {},
          "execution_count": 14
        }
      ]
    },
    {
      "cell_type": "markdown",
      "source": [
        "### 4. Gere um diagrama de caixa da idade da mãe"
      ],
      "metadata": {
        "id": "j_Lz30RM8uHd"
      }
    },
    {
      "cell_type": "code",
      "source": [
        "sb.boxplot(y=bebes['mage'])\n",
        "plt.show()"
      ],
      "metadata": {
        "colab": {
          "base_uri": "https://localhost:8080/",
          "height": 466
        },
        "id": "PJ-LFSmW8xu7",
        "outputId": "179a0cc8-64e2-450f-d6ce-679b3b4db596"
      },
      "execution_count": null,
      "outputs": [
        {
          "output_type": "display_data",
          "data": {
            "image/png": "[encoded data removed]",
            "text/plain": [
              "<Figure size 1080x576 with 1 Axes>"
            ]
          },
          "metadata": {}
        }
      ]
    },
    {
      "cell_type": "markdown",
      "source": [
        "### 5. Gráfico de dispersão peso do bebê e do tempo de gestação (mães fumantes e não fumantes)."
      ],
      "metadata": {
        "id": "0bxXPHsQ8zwK"
      }
    },
    {
      "cell_type": "code",
      "source": [
        "sb.scatterplot(x=bebes['Birthweight'],y=bebes['Gestation'],hue=bebes['smoker'])\n",
        "plt.show()"
      ],
      "metadata": {
        "colab": {
          "base_uri": "https://localhost:8080/",
          "height": 502
        },
        "id": "mb3urtXv9uPr",
        "outputId": "4d000df1-9ad4-4704-a704-c5f3912d7be2"
      },
      "execution_count": null,
      "outputs": [
        {
          "output_type": "display_data",
          "data": {
            "image/png": "[encoded data removed]",
            "text/plain": [
              "<Figure size 1080x576 with 1 Axes>"
            ]
          },
          "metadata": {}
        }
      ]
    },
    {
      "cell_type": "markdown",
      "source": [
        "Podemos ver no gráfico de dispersão que todos os bebês abaixo de 2,5Kg são filhos de mães fumantes. Também há uma concentração maior de bebês com menos peso entre as mães fumantes.\n",
        "\n",
        "Outro resultado visível (e esperado) é que existe uma correlação positiva entre o tempo de gestação e o peso dos bebês."
      ],
      "metadata": {
        "id": "vz-JO9D6Es7y"
      }
    },
    {
      "cell_type": "code",
      "source": [
        ""
      ],
      "metadata": {
        "id": "ddvcdtV2_y6p"
      },
      "execution_count": null,
      "outputs": []
    }
  ]
}