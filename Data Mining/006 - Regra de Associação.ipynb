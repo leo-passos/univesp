{
  "nbformat": 4,
  "nbformat_minor": 0,
  "metadata": {
    "colab": {
      "name": "semana-6-exercicio-apoio.ipynb",
      "provenance": [],
      "collapsed_sections": []
    },
    "kernelspec": {
      "name": "python3",
      "display_name": "Python 3"
    },
    "language_info": {
      "name": "python"
    }
  },
  "cells": [
    {
      "cell_type": "markdown",
      "source": [
        "## Mineração de dados - Semana 6: \n",
        "\n",
        "### Exercício sobre regras de associação\n",
        "\n",
        "Use o algoritmo **Apriori** para identificar regras de associação em uma base de dados de compras de uma padaria. Essa padaria é a \"The Bread Basket\", que fica em Edinburgh, na Escócia. Os dados foram modificados para facilitar o uso neste exercício, e estão disponíveis neste [link](https://raw.githubusercontent.com/higoramario/univesp-com360-mineracao-dados/main/cesta_padaria.csv).\n",
        "\n",
        "Descrição dos atributos:\n",
        "\n",
        "* Existem 94 colunas, cada uma corresponde a um produto e cada linha representa uma transação. Quando o produto faz parte de uma transação, a célula recebe o nome do produto, caso contrário o valor é nulo.\n",
        "\n",
        "Veja uma amostra do conjunto:\n",
        "\n",
        "| alfajor | baguette | bread | coffee | juice |\n",
        "| --- | --- | --- | --- | --- | \n",
        "| NaN | NaN | bread | coffee | NaN |\n",
        "| alfajor | NaN | bread | NaN | NaN |\n",
        "| NaN | NaN | bread | coffee | juice |\n",
        "| alfajor | baguette | NaN | NaN | NaN |\n",
        "| ... | ... | ... | ... | ... |\n",
        "\n",
        "Gere a lista dos itens mais vendidos e menos vendidos. Em seguida, use os valores de suporte de 4% (0.04) e confiança de 40% (0.4) para gerar as regras de associação.\n",
        "\n",
        "Os dados originais foram retirados do Kaggle, no link a seguir:\n",
        "[Bread basket](https://www.kaggle.com/code/nandinibagga/apriori-algorithm/data)"
      ],
      "metadata": {
        "id": "5oxNW8e7rws3"
      }
    },
    {
      "cell_type": "code",
      "execution_count": null,
      "metadata": {
        "id": "NUj8NkxkrIfY"
      },
      "outputs": [],
      "source": [
        "import pandas as pd\n",
        "import matplotlib.pyplot as plt\n",
        "import numpy as np\n",
        "plt.rcParams[\"figure.figsize\"] = (15,10)"
      ]
    },
    {
      "cell_type": "markdown",
      "source": [
        "Importando a biblioteca apyori e os dados"
      ],
      "metadata": {
        "id": "oAssFGkvrgps"
      }
    },
    {
      "cell_type": "code",
      "source": [
        "!pip -qq install apyori\n",
        "import apyori"
      ],
      "metadata": {
        "id": "lsf3kThRrUmH",
        "colab": {
          "base_uri": "https://localhost:8080/"
        },
        "outputId": "4185b80f-80a1-4819-ca8e-84703fdae21d"
      },
      "execution_count": null,
      "outputs": [
        {
          "output_type": "stream",
          "name": "stdout",
          "text": [
            "  Building wheel for apyori (setup.py) ... \u001b[?25l\u001b[?25hdone\n"
          ]
        }
      ]
    },
    {
      "cell_type": "code",
      "source": [
        "url = 'https://raw.githubusercontent.com/higoramario/univesp-com360-mineracao-dados/main/cesta_padaria.csv'\n",
        "transacoes = pd.read_csv(url)\n",
        "transacoes.head(10)"
      ],
      "metadata": {
        "colab": {
          "base_uri": "https://localhost:8080/",
          "height": 352
        },
        "id": "s6L-KOmMDO4L",
        "outputId": "2e316123-9f62-4081-bf9e-ba414f7d5463"
      },
      "execution_count": null,
      "outputs": [
        {
          "output_type": "stream",
          "name": "stderr",
          "text": [
            "/usr/local/lib/python3.7/dist-packages/IPython/core/interactiveshell.py:2882: DtypeWarning: Columns (0,5,8,9,10,12,16,18,20,27,31,33,34,36,38,39,41,42,44,46,52,53,54,56,59,63,64,66,67,68,69,70,71,76,80,81,82,84,89,90,92,93) have mixed types.Specify dtype option on import or set low_memory=False.\n",
            "  exec(code_obj, self.user_global_ns, self.user_ns)\n"
          ]
        },
        {
          "output_type": "execute_result",
          "data": {
            "text/plain": [
              "  adjustment afternoon with the baker alfajores argentina night art tray  \\\n",
              "0        NaN                      NaN       NaN             NaN      NaN   \n",
              "1        NaN                      NaN       NaN             NaN      NaN   \n",
              "2        NaN                      NaN       NaN             NaN      NaN   \n",
              "3        NaN                      NaN       NaN             NaN      NaN   \n",
              "4        NaN                      NaN       NaN             NaN      NaN   \n",
              "\n",
              "  bacon baguette bakewell bare popcorn basket  ... the bart the nomad tiffin  \\\n",
              "0   NaN      NaN      NaN          NaN    NaN  ...      NaN       NaN    NaN   \n",
              "1   NaN      NaN      NaN          NaN    NaN  ...      NaN       NaN    NaN   \n",
              "2   NaN      NaN      NaN          NaN    NaN  ...      NaN       NaN    NaN   \n",
              "3   NaN      NaN      NaN          NaN    NaN  ...      NaN       NaN    NaN   \n",
              "4   NaN      NaN      NaN          NaN    NaN  ...      NaN       NaN    NaN   \n",
              "\n",
              "  toast truffles tshirt valentine's card vegan feast vegan mincepie  \\\n",
              "0   NaN      NaN    NaN              NaN         NaN            NaN   \n",
              "1   NaN      NaN    NaN              NaN         NaN            NaN   \n",
              "2   NaN      NaN    NaN              NaN         NaN            NaN   \n",
              "3   NaN      NaN    NaN              NaN         NaN            NaN   \n",
              "4   NaN      NaN    NaN              NaN         NaN            NaN   \n",
              "\n",
              "  victorian sponge  \n",
              "0              NaN  \n",
              "1              NaN  \n",
              "2              NaN  \n",
              "3              NaN  \n",
              "4              NaN  \n",
              "\n",
              "[5 rows x 94 columns]"
            ],
            "text/html": [
              "\n",
              "  <div id=\"df-40bcb706-9f32-478c-9626-819914781a1e\">\n",
              "    <div class=\"colab-df-container\">\n",
              "      <div>\n",
              "<style scoped>\n",
              "    .dataframe tbody tr th:only-of-type {\n",
              "        vertical-align: middle;\n",
              "    }\n",
              "\n",
              "    .dataframe tbody tr th {\n",
              "        vertical-align: top;\n",
              "    }\n",
              "\n",
              "    .dataframe thead th {\n",
              "        text-align: right;\n",
              "    }\n",
              "</style>\n",
              "<table border=\"1\" class=\"dataframe\">\n",
              "  <thead>\n",
              "    <tr style=\"text-align: right;\">\n",
              "      <th></th>\n",
              "      <th>adjustment</th>\n",
              "      <th>afternoon with the baker</th>\n",
              "      <th>alfajores</th>\n",
              "      <th>argentina night</th>\n",
              "      <th>art tray</th>\n",
              "      <th>bacon</th>\n",
              "      <th>baguette</th>\n",
              "      <th>bakewell</th>\n",
              "      <th>bare popcorn</th>\n",
              "      <th>basket</th>\n",
              "      <th>...</th>\n",
              "      <th>the bart</th>\n",
              "      <th>the nomad</th>\n",
              "      <th>tiffin</th>\n",
              "      <th>toast</th>\n",
              "      <th>truffles</th>\n",
              "      <th>tshirt</th>\n",
              "      <th>valentine's card</th>\n",
              "      <th>vegan feast</th>\n",
              "      <th>vegan mincepie</th>\n",
              "      <th>victorian sponge</th>\n",
              "    </tr>\n",
              "  </thead>\n",
              "  <tbody>\n",
              "    <tr>\n",
              "      <th>0</th>\n",
              "      <td>NaN</td>\n",
              "      <td>NaN</td>\n",
              "      <td>NaN</td>\n",
              "      <td>NaN</td>\n",
              "      <td>NaN</td>\n",
              "      <td>NaN</td>\n",
              "      <td>NaN</td>\n",
              "      <td>NaN</td>\n",
              "      <td>NaN</td>\n",
              "      <td>NaN</td>\n",
              "      <td>...</td>\n",
              "      <td>NaN</td>\n",
              "      <td>NaN</td>\n",
              "      <td>NaN</td>\n",
              "      <td>NaN</td>\n",
              "      <td>NaN</td>\n",
              "      <td>NaN</td>\n",
              "      <td>NaN</td>\n",
              "      <td>NaN</td>\n",
              "      <td>NaN</td>\n",
              "      <td>NaN</td>\n",
              "    </tr>\n",
              "    <tr>\n",
              "      <th>1</th>\n",
              "      <td>NaN</td>\n",
              "      <td>NaN</td>\n",
              "      <td>NaN</td>\n",
              "      <td>NaN</td>\n",
              "      <td>NaN</td>\n",
              "      <td>NaN</td>\n",
              "      <td>NaN</td>\n",
              "      <td>NaN</td>\n",
              "      <td>NaN</td>\n",
              "      <td>NaN</td>\n",
              "      <td>...</td>\n",
              "      <td>NaN</td>\n",
              "      <td>NaN</td>\n",
              "      <td>NaN</td>\n",
              "      <td>NaN</td>\n",
              "      <td>NaN</td>\n",
              "      <td>NaN</td>\n",
              "      <td>NaN</td>\n",
              "      <td>NaN</td>\n",
              "      <td>NaN</td>\n",
              "      <td>NaN</td>\n",
              "    </tr>\n",
              "    <tr>\n",
              "      <th>2</th>\n",
              "      <td>NaN</td>\n",
              "      <td>NaN</td>\n",
              "      <td>NaN</td>\n",
              "      <td>NaN</td>\n",
              "      <td>NaN</td>\n",
              "      <td>NaN</td>\n",
              "      <td>NaN</td>\n",
              "      <td>NaN</td>\n",
              "      <td>NaN</td>\n",
              "      <td>NaN</td>\n",
              "      <td>...</td>\n",
              "      <td>NaN</td>\n",
              "      <td>NaN</td>\n",
              "      <td>NaN</td>\n",
              "      <td>NaN</td>\n",
              "      <td>NaN</td>\n",
              "      <td>NaN</td>\n",
              "      <td>NaN</td>\n",
              "      <td>NaN</td>\n",
              "      <td>NaN</td>\n",
              "      <td>NaN</td>\n",
              "    </tr>\n",
              "    <tr>\n",
              "      <th>3</th>\n",
              "      <td>NaN</td>\n",
              "      <td>NaN</td>\n",
              "      <td>NaN</td>\n",
              "      <td>NaN</td>\n",
              "      <td>NaN</td>\n",
              "      <td>NaN</td>\n",
              "      <td>NaN</td>\n",
              "      <td>NaN</td>\n",
              "      <td>NaN</td>\n",
              "      <td>NaN</td>\n",
              "      <td>...</td>\n",
              "      <td>NaN</td>\n",
              "      <td>NaN</td>\n",
              "      <td>NaN</td>\n",
              "      <td>NaN</td>\n",
              "      <td>NaN</td>\n",
              "      <td>NaN</td>\n",
              "      <td>NaN</td>\n",
              "      <td>NaN</td>\n",
              "      <td>NaN</td>\n",
              "      <td>NaN</td>\n",
              "    </tr>\n",
              "    <tr>\n",
              "      <th>4</th>\n",
              "      <td>NaN</td>\n",
              "      <td>NaN</td>\n",
              "      <td>NaN</td>\n",
              "      <td>NaN</td>\n",
              "      <td>NaN</td>\n",
              "      <td>NaN</td>\n",
              "      <td>NaN</td>\n",
              "      <td>NaN</td>\n",
              "      <td>NaN</td>\n",
              "      <td>NaN</td>\n",
              "      <td>...</td>\n",
              "      <td>NaN</td>\n",
              "      <td>NaN</td>\n",
              "      <td>NaN</td>\n",
              "      <td>NaN</td>\n",
              "      <td>NaN</td>\n",
              "      <td>NaN</td>\n",
              "      <td>NaN</td>\n",
              "      <td>NaN</td>\n",
              "      <td>NaN</td>\n",
              "      <td>NaN</td>\n",
              "    </tr>\n",
              "  </tbody>\n",
              "</table>\n",
              "<p>5 rows × 94 columns</p>\n",
              "</div>\n",
              "      <button class=\"colab-df-convert\" onclick=\"convertToInteractive('df-40bcb706-9f32-478c-9626-819914781a1e')\"\n",
              "              title=\"Convert this dataframe to an interactive table.\"\n",
              "              style=\"display:none;\">\n",
              "        \n",
              "  <svg xmlns=\"http://www.w3.org/2000/svg\" height=\"24px\"viewBox=\"0 0 24 24\"\n",
              "       width=\"24px\">\n",
              "    <path d=\"M0 0h24v24H0V0z\" fill=\"none\"/>\n",
              "    <path d=\"M18.56 5.44l.94 2.06.94-2.06 2.06-.94-2.06-.94-.94-2.06-.94 2.06-2.06.94zm-11 1L8.5 8.5l.94-2.06 2.06-.94-2.06-.94L8.5 2.5l-.94 2.06-2.06.94zm10 10l.94 2.06.94-2.06 2.06-.94-2.06-.94-.94-2.06-.94 2.06-2.06.94z\"/><path d=\"M17.41 7.96l-1.37-1.37c-.4-.4-.92-.59-1.43-.59-.52 0-1.04.2-1.43.59L10.3 9.45l-7.72 7.72c-.78.78-.78 2.05 0 2.83L4 21.41c.39.39.9.59 1.41.59.51 0 1.02-.2 1.41-.59l7.78-7.78 2.81-2.81c.8-.78.8-2.07 0-2.86zM5.41 20L4 18.59l7.72-7.72 1.47 1.35L5.41 20z\"/>\n",
              "  </svg>\n",
              "      </button>\n",
              "      \n",
              "  <style>\n",
              "    .colab-df-container {\n",
              "      display:flex;\n",
              "      flex-wrap:wrap;\n",
              "      gap: 12px;\n",
              "    }\n",
              "\n",
              "    .colab-df-convert {\n",
              "      background-color: #E8F0FE;\n",
              "      border: none;\n",
              "      border-radius: 50%;\n",
              "      cursor: pointer;\n",
              "      display: none;\n",
              "      fill: #1967D2;\n",
              "      height: 32px;\n",
              "      padding: 0 0 0 0;\n",
              "      width: 32px;\n",
              "    }\n",
              "\n",
              "    .colab-df-convert:hover {\n",
              "      background-color: #E2EBFA;\n",
              "      box-shadow: 0px 1px 2px rgba(60, 64, 67, 0.3), 0px 1px 3px 1px rgba(60, 64, 67, 0.15);\n",
              "      fill: #174EA6;\n",
              "    }\n",
              "\n",
              "    [theme=dark] .colab-df-convert {\n",
              "      background-color: #3B4455;\n",
              "      fill: #D2E3FC;\n",
              "    }\n",
              "\n",
              "    [theme=dark] .colab-df-convert:hover {\n",
              "      background-color: #434B5C;\n",
              "      box-shadow: 0px 1px 3px 1px rgba(0, 0, 0, 0.15);\n",
              "      filter: drop-shadow(0px 1px 2px rgba(0, 0, 0, 0.3));\n",
              "      fill: #FFFFFF;\n",
              "    }\n",
              "  </style>\n",
              "\n",
              "      <script>\n",
              "        const buttonEl =\n",
              "          document.querySelector('#df-40bcb706-9f32-478c-9626-819914781a1e button.colab-df-convert');\n",
              "        buttonEl.style.display =\n",
              "          google.colab.kernel.accessAllowed ? 'block' : 'none';\n",
              "\n",
              "        async function convertToInteractive(key) {\n",
              "          const element = document.querySelector('#df-40bcb706-9f32-478c-9626-819914781a1e');\n",
              "          const dataTable =\n",
              "            await google.colab.kernel.invokeFunction('convertToInteractive',\n",
              "                                                     [key], {});\n",
              "          if (!dataTable) return;\n",
              "\n",
              "          const docLinkHtml = 'Like what you see? Visit the ' +\n",
              "            '<a target=\"_blank\" href=https://colab.research.google.com/notebooks/data_table.ipynb>data table notebook</a>'\n",
              "            + ' to learn more about interactive tables.';\n",
              "          element.innerHTML = '';\n",
              "          dataTable['output_type'] = 'display_data';\n",
              "          await google.colab.output.renderOutput(dataTable, element);\n",
              "          const docLink = document.createElement('div');\n",
              "          docLink.innerHTML = docLinkHtml;\n",
              "          element.appendChild(docLink);\n",
              "        }\n",
              "      </script>\n",
              "    </div>\n",
              "  </div>\n",
              "  "
            ]
          },
          "metadata": {},
          "execution_count": 3
        }
      ]
    },
    {
      "cell_type": "markdown",
      "source": [
        "#### Tamanho da base de dados"
      ],
      "metadata": {
        "id": "aa_Y7NTMftkM"
      }
    },
    {
      "cell_type": "code",
      "source": [
        "len(transacoes)"
      ],
      "metadata": {
        "colab": {
          "base_uri": "https://localhost:8080/"
        },
        "id": "EBDoyzwkfxYX",
        "outputId": "4ac962f7-4e65-4508-a6ac-fab5bdc22dae"
      },
      "execution_count": null,
      "outputs": [
        {
          "output_type": "execute_result",
          "data": {
            "text/plain": [
              "9465"
            ]
          },
          "metadata": {},
          "execution_count": 4
        }
      ]
    },
    {
      "cell_type": "markdown",
      "source": [
        "#### Análise exploratória inicial"
      ],
      "metadata": {
        "id": "C4umz1Wqvucf"
      }
    },
    {
      "cell_type": "code",
      "source": [
        "itens = transacoes.melt()['value'].dropna().sort_values()\n",
        "print(f'Existem {itens.nunique()} produtos distintos:\\n', itens.unique())"
      ],
      "metadata": {
        "id": "IkJ7aj7MtSD1",
        "colab": {
          "base_uri": "https://localhost:8080/"
        },
        "outputId": "7b53fcc3-e5c5-45ac-d99b-af41df6929ed"
      },
      "execution_count": null,
      "outputs": [
        {
          "output_type": "stream",
          "name": "stdout",
          "text": [
            "Existem 94 produtos distintos:\n",
            " ['adjustment' 'afternoon with the baker' 'alfajores' 'argentina night'\n",
            " 'art tray' 'bacon' 'baguette' 'bakewell' 'bare popcorn' 'basket'\n",
            " 'bowl nic pitt' 'bread' 'bread pudding' 'brioche and salami' 'brownie'\n",
            " 'cake' 'caramel bites' 'cherry me dried fruit' 'chicken sand'\n",
            " 'chicken stew' 'chimichurri oil' 'chocolates' 'christmas common' 'coffee'\n",
            " 'coffee granules' 'coke' 'cookies' 'crepes' 'crisps'\n",
            " 'drinking chocolate spoons' 'duck egg' 'dulce de leche' 'eggs'\n",
            " \"ella's kitchen pouches\" 'empanadas' 'extra salami or feta' 'fairy doors'\n",
            " 'farm house' 'focaccia' 'frittata' 'fudge' 'gift voucher'\n",
            " 'gingerbread syrup' 'granola' 'hack the stack' 'half slice monster'\n",
            " 'hearty & seasonal' 'honey' 'hot chocolate' 'jam' 'jammie dodgers'\n",
            " 'juice' 'keeping it local' 'kids biscuit' 'lemon and coconut' 'medialuna'\n",
            " 'mighty protein' 'mineral water' 'mortimer' 'muesli' 'muffin'\n",
            " 'my-5 fruit shoot' 'nomad bag' 'olum & polenta' 'panatone' 'pastry'\n",
            " 'pick and mix bowls' 'pintxos' 'polenta' 'postcard'\n",
            " 'raspberry shortbread sandwich' 'raw bars' 'salad' 'sandwich'\n",
            " 'scandinavian' 'scone' 'siblings' 'smoothies' 'soup' 'spanish brunch'\n",
            " 'spread' 'tacos/fajita' 'tartine' 'tea' 'the bart' 'the nomad' 'tiffin'\n",
            " 'toast' 'truffles' 'tshirt' \"valentine's card\" 'vegan feast'\n",
            " 'vegan mincepie' 'victorian sponge']\n"
          ]
        }
      ]
    },
    {
      "cell_type": "markdown",
      "source": [
        "#### Itens mais vendidos"
      ],
      "metadata": {
        "id": "5cavijUN9qBm"
      }
    },
    {
      "cell_type": "code",
      "source": [
        "qtde_itens = itens.value_counts()\n",
        "\n",
        "ax = qtde_itens.nlargest(10).plot(kind=\"bar\")\n",
        "ax.set_title(\"Itens mais vendidos\", size=20, weight=500, pad=15)\n",
        "ax.set_ylabel(\"Qtde\")\n",
        "plt.show()"
      ],
      "metadata": {
        "colab": {
          "base_uri": "https://localhost:8080/",
          "height": 679
        },
        "id": "9Nmihqm0PFoD",
        "outputId": "4248015c-1c63-4f07-efa1-e21c097ba04d"
      },
      "execution_count": null,
      "outputs": [
        {
          "output_type": "display_data",
          "data": {
            "text/plain": [
              "<Figure size 1080x720 with 1 Axes>"
            ],
            "image/png": "[encoded data removed]"
          },
          "metadata": {
            "needs_background": "light"
          }
        }
      ]
    },
    {
      "cell_type": "markdown",
      "source": [
        "#### Itens menos vendidos"
      ],
      "metadata": {
        "id": "QBhgh6NY-lv4"
      }
    },
    {
      "cell_type": "code",
      "source": [
        "ax = qtde_itens.nsmallest(10).plot(kind=\"bar\")\n",
        "ax.set_title(\"Itens menos vendidos\", size=20, weight=500, pad=15)\n",
        "ax.set_ylabel(\"Qtde\")\n",
        "plt.show()"
      ],
      "metadata": {
        "colab": {
          "base_uri": "https://localhost:8080/",
          "height": 688
        },
        "id": "gO9__T3Z-p4a",
        "outputId": "7ba897be-5cdf-429f-d824-9e88e0436d69"
      },
      "execution_count": null,
      "outputs": [
        {
          "output_type": "display_data",
          "data": {
            "text/plain": [
              "<Figure size 1080x720 with 1 Axes>"
            ],
            "image/png": "[encoded data removed]"
          },
          "metadata": {
            "needs_background": "light"
          }
        }
      ]
    },
    {
      "cell_type": "markdown",
      "source": [
        "#### Pré-processamento \n",
        "##### Contando os itens de cada transação"
      ],
      "metadata": {
        "id": "2nHiQD5xBY2j"
      }
    },
    {
      "cell_type": "code",
      "source": [
        "#conta a qtde de itens não nulos em cada objeto\n",
        "qtde_por_cesta = transacoes.notna().apply(sum, axis=1)"
      ],
      "metadata": {
        "id": "LhQ-qrBoAsFe"
      },
      "execution_count": null,
      "outputs": []
    },
    {
      "cell_type": "markdown",
      "source": [
        "#### No Apriori é necessário haver ao menos 2 itens em cada transação, então eliminamos transações com um único produto"
      ],
      "metadata": {
        "id": "uLrr1wwDCUhJ"
      }
    },
    {
      "cell_type": "code",
      "source": [
        "#separando os objetos com mais de um item na transação\n",
        "cestas = [set(linha.dropna()) for _, linha in transacoes[qtde_por_cesta > 1].iterrows()]\n",
        "cestas[:5]"
      ],
      "metadata": {
        "id": "Xl7MRBQxAsLN",
        "colab": {
          "base_uri": "https://localhost:8080/"
        },
        "outputId": "312adf2e-1c7d-4021-c594-954b032b15f2"
      },
      "execution_count": null,
      "outputs": [
        {
          "output_type": "execute_result",
          "data": {
            "text/plain": [
              "[{'cookies', 'hot chocolate', 'jam'},\n",
              " {'bread', 'coffee', 'pastry'},\n",
              " {'medialuna', 'muffin', 'pastry'},\n",
              " {'coffee', 'medialuna', 'pastry', 'tea'},\n",
              " {'bread', 'pastry'}]"
            ]
          },
          "metadata": {},
          "execution_count": 11
        }
      ]
    },
    {
      "cell_type": "code",
      "source": [
        "len(cestas)"
      ],
      "metadata": {
        "colab": {
          "base_uri": "https://localhost:8080/"
        },
        "id": "WNcHJ_U9rAyN",
        "outputId": "ac7bf6f7-5e60-4178-f0e0-4dd798887b85"
      },
      "execution_count": null,
      "outputs": [
        {
          "output_type": "execute_result",
          "data": {
            "text/plain": [
              "5517"
            ]
          },
          "metadata": {},
          "execution_count": 12
        }
      ]
    },
    {
      "cell_type": "markdown",
      "source": [
        "#### Rodando o Apriori"
      ],
      "metadata": {
        "id": "i6gMGwXJtJmd"
      }
    },
    {
      "cell_type": "code",
      "source": [
        "minsup = 0.04\n",
        "minconf = 0.4\n",
        "regras_associacao = apyori.apriori(cestas, min_support=minsup, min_confidence=minconf)\n",
        "\n",
        "for regra in regras_associacao:\n",
        "  itens = list(regra.items)\n",
        "  print(\n",
        "      f\"{itens[:-1]} --> [{itens[-1]}]  Suporte: {regra.support:.3f}\"\n",
        "      f\"  Confiança: {regra.ordered_statistics[0].confidence:.3f}\"\n",
        "  )"
      ],
      "metadata": {
        "colab": {
          "base_uri": "https://localhost:8080/"
        },
        "id": "1xHs4VbsxoJa",
        "outputId": "80c307aa-c420-4de1-e1d9-5410a72547b0"
      },
      "execution_count": null,
      "outputs": [
        {
          "output_type": "stream",
          "name": "stdout",
          "text": [
            "[] --> [coffee]  Suporte: 0.604  Confiança: 0.604\n",
            "['bread'] --> [coffee]  Suporte: 0.154  Confiança: 0.447\n",
            "['coffee'] --> [cake]  Suporte: 0.094  Confiança: 0.586\n",
            "['cookies'] --> [coffee]  Suporte: 0.048  Confiança: 0.568\n",
            "['hot chocolate'] --> [coffee]  Suporte: 0.051  Confiança: 0.580\n",
            "['medialuna'] --> [coffee]  Suporte: 0.060  Confiança: 0.631\n",
            "['coffee'] --> [pastry]  Suporte: 0.082  Confiança: 0.600\n",
            "['coffee'] --> [sandwich]  Suporte: 0.066  Confiança: 0.591\n",
            "['coffee'] --> [tea]  Suporte: 0.086  Confiança: 0.412\n",
            "['toast'] --> [coffee]  Suporte: 0.041  Confiança: 0.737\n"
          ]
        }
      ]
    },
    {
      "cell_type": "markdown",
      "source": [
        "Os resultados obtidos no seu exercício devem semelhantes aos apresentados neste caderno. Confira e compare os resultados. \n",
        "\n",
        "Experimente outros valores de suporte e confiança e veja os resultados. Tente usar outras bases de dados e também o algoritmo FP-Growth e veja as diferenças."
      ],
      "metadata": {
        "id": "o37psasBe6lD"
      }
    }
  ]
}